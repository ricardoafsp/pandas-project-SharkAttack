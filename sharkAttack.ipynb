{
 "cells": [
  {
   "cell_type": "code",
   "execution_count": 1,
   "metadata": {},
   "outputs": [],
   "source": [
    "import numpy as np\n",
    "import pandas as pd\n",
    "import re\n",
    "import matplotlib.pyplot as plt"
   ]
  },
  {
   "cell_type": "code",
   "execution_count": 2,
   "metadata": {},
   "outputs": [],
   "source": [
    "df = pd.read_csv(\"GSAF5.csv\", engine=\"python\")"
   ]
  },
  {
   "cell_type": "code",
   "execution_count": 3,
   "metadata": {},
   "outputs": [
    {
     "data": {
      "text/html": [
       "<div>\n",
       "<style scoped>\n",
       "    .dataframe tbody tr th:only-of-type {\n",
       "        vertical-align: middle;\n",
       "    }\n",
       "\n",
       "    .dataframe tbody tr th {\n",
       "        vertical-align: top;\n",
       "    }\n",
       "\n",
       "    .dataframe thead th {\n",
       "        text-align: right;\n",
       "    }\n",
       "</style>\n",
       "<table border=\"1\" class=\"dataframe\">\n",
       "  <thead>\n",
       "    <tr style=\"text-align: right;\">\n",
       "      <th></th>\n",
       "      <th>Case Number</th>\n",
       "      <th>Date</th>\n",
       "      <th>Year</th>\n",
       "      <th>Type</th>\n",
       "      <th>Country</th>\n",
       "      <th>Area</th>\n",
       "      <th>Location</th>\n",
       "      <th>Activity</th>\n",
       "      <th>Name</th>\n",
       "      <th>Sex</th>\n",
       "      <th>...</th>\n",
       "      <th>Species</th>\n",
       "      <th>Investigator or Source</th>\n",
       "      <th>pdf</th>\n",
       "      <th>href formula</th>\n",
       "      <th>href</th>\n",
       "      <th>Case Number.1</th>\n",
       "      <th>Case Number.2</th>\n",
       "      <th>original order</th>\n",
       "      <th>Unnamed: 22</th>\n",
       "      <th>Unnamed: 23</th>\n",
       "    </tr>\n",
       "  </thead>\n",
       "  <tbody>\n",
       "    <tr>\n",
       "      <th>0</th>\n",
       "      <td>2016.09.18.c</td>\n",
       "      <td>18-Sep-16</td>\n",
       "      <td>2016</td>\n",
       "      <td>Unprovoked</td>\n",
       "      <td>USA</td>\n",
       "      <td>Florida</td>\n",
       "      <td>New Smyrna Beach, Volusia County</td>\n",
       "      <td>Surfing</td>\n",
       "      <td>male</td>\n",
       "      <td>M</td>\n",
       "      <td>...</td>\n",
       "      <td>NaN</td>\n",
       "      <td>Orlando Sentinel, 9/19/2016</td>\n",
       "      <td>2016.09.18.c-NSB.pdf</td>\n",
       "      <td>http://sharkattackfile.net/spreadsheets/pdf_di...</td>\n",
       "      <td>http://sharkattackfile.net/spreadsheets/pdf_di...</td>\n",
       "      <td>2016.09.18.c</td>\n",
       "      <td>2016.09.18.c</td>\n",
       "      <td>5993</td>\n",
       "      <td>NaN</td>\n",
       "      <td>NaN</td>\n",
       "    </tr>\n",
       "    <tr>\n",
       "      <th>1</th>\n",
       "      <td>2016.09.18.b</td>\n",
       "      <td>18-Sep-16</td>\n",
       "      <td>2016</td>\n",
       "      <td>Unprovoked</td>\n",
       "      <td>USA</td>\n",
       "      <td>Florida</td>\n",
       "      <td>New Smyrna Beach, Volusia County</td>\n",
       "      <td>Surfing</td>\n",
       "      <td>Chucky Luciano</td>\n",
       "      <td>M</td>\n",
       "      <td>...</td>\n",
       "      <td>NaN</td>\n",
       "      <td>Orlando Sentinel, 9/19/2016</td>\n",
       "      <td>2016.09.18.b-Luciano.pdf</td>\n",
       "      <td>http://sharkattackfile.net/spreadsheets/pdf_di...</td>\n",
       "      <td>http://sharkattackfile.net/spreadsheets/pdf_di...</td>\n",
       "      <td>2016.09.18.b</td>\n",
       "      <td>2016.09.18.b</td>\n",
       "      <td>5992</td>\n",
       "      <td>NaN</td>\n",
       "      <td>NaN</td>\n",
       "    </tr>\n",
       "    <tr>\n",
       "      <th>2</th>\n",
       "      <td>2016.09.18.a</td>\n",
       "      <td>18-Sep-16</td>\n",
       "      <td>2016</td>\n",
       "      <td>Unprovoked</td>\n",
       "      <td>USA</td>\n",
       "      <td>Florida</td>\n",
       "      <td>New Smyrna Beach, Volusia County</td>\n",
       "      <td>Surfing</td>\n",
       "      <td>male</td>\n",
       "      <td>M</td>\n",
       "      <td>...</td>\n",
       "      <td>NaN</td>\n",
       "      <td>Orlando Sentinel, 9/19/2016</td>\n",
       "      <td>2016.09.18.a-NSB.pdf</td>\n",
       "      <td>http://sharkattackfile.net/spreadsheets/pdf_di...</td>\n",
       "      <td>http://sharkattackfile.net/spreadsheets/pdf_di...</td>\n",
       "      <td>2016.09.18.a</td>\n",
       "      <td>2016.09.18.a</td>\n",
       "      <td>5991</td>\n",
       "      <td>NaN</td>\n",
       "      <td>NaN</td>\n",
       "    </tr>\n",
       "    <tr>\n",
       "      <th>3</th>\n",
       "      <td>2016.09.17</td>\n",
       "      <td>17-Sep-16</td>\n",
       "      <td>2016</td>\n",
       "      <td>Unprovoked</td>\n",
       "      <td>AUSTRALIA</td>\n",
       "      <td>Victoria</td>\n",
       "      <td>Thirteenth Beach</td>\n",
       "      <td>Surfing</td>\n",
       "      <td>Rory Angiolella</td>\n",
       "      <td>M</td>\n",
       "      <td>...</td>\n",
       "      <td>NaN</td>\n",
       "      <td>The Age, 9/18/2016</td>\n",
       "      <td>2016.09.17-Angiolella.pdf</td>\n",
       "      <td>http://sharkattackfile.net/spreadsheets/pdf_di...</td>\n",
       "      <td>http://sharkattackfile.net/spreadsheets/pdf_di...</td>\n",
       "      <td>2016.09.17</td>\n",
       "      <td>2016.09.17</td>\n",
       "      <td>5990</td>\n",
       "      <td>NaN</td>\n",
       "      <td>NaN</td>\n",
       "    </tr>\n",
       "    <tr>\n",
       "      <th>4</th>\n",
       "      <td>2016.09.15</td>\n",
       "      <td>16-Sep-16</td>\n",
       "      <td>2016</td>\n",
       "      <td>Unprovoked</td>\n",
       "      <td>AUSTRALIA</td>\n",
       "      <td>Victoria</td>\n",
       "      <td>Bells Beach</td>\n",
       "      <td>Surfing</td>\n",
       "      <td>male</td>\n",
       "      <td>M</td>\n",
       "      <td>...</td>\n",
       "      <td>2 m shark</td>\n",
       "      <td>The Age, 9/16/2016</td>\n",
       "      <td>2016.09.16-BellsBeach.pdf</td>\n",
       "      <td>http://sharkattackfile.net/spreadsheets/pdf_di...</td>\n",
       "      <td>http://sharkattackfile.net/spreadsheets/pdf_di...</td>\n",
       "      <td>2016.09.16</td>\n",
       "      <td>2016.09.15</td>\n",
       "      <td>5989</td>\n",
       "      <td>NaN</td>\n",
       "      <td>NaN</td>\n",
       "    </tr>\n",
       "    <tr>\n",
       "      <th>...</th>\n",
       "      <td>...</td>\n",
       "      <td>...</td>\n",
       "      <td>...</td>\n",
       "      <td>...</td>\n",
       "      <td>...</td>\n",
       "      <td>...</td>\n",
       "      <td>...</td>\n",
       "      <td>...</td>\n",
       "      <td>...</td>\n",
       "      <td>...</td>\n",
       "      <td>...</td>\n",
       "      <td>...</td>\n",
       "      <td>...</td>\n",
       "      <td>...</td>\n",
       "      <td>...</td>\n",
       "      <td>...</td>\n",
       "      <td>...</td>\n",
       "      <td>...</td>\n",
       "      <td>...</td>\n",
       "      <td>...</td>\n",
       "      <td>...</td>\n",
       "    </tr>\n",
       "    <tr>\n",
       "      <th>5987</th>\n",
       "      <td>ND.0005</td>\n",
       "      <td>Before 1903</td>\n",
       "      <td>0</td>\n",
       "      <td>Unprovoked</td>\n",
       "      <td>AUSTRALIA</td>\n",
       "      <td>Western Australia</td>\n",
       "      <td>Roebuck Bay</td>\n",
       "      <td>Diving</td>\n",
       "      <td>male</td>\n",
       "      <td>M</td>\n",
       "      <td>...</td>\n",
       "      <td>NaN</td>\n",
       "      <td>H. Taunton; N. Bartlett,  p. 234</td>\n",
       "      <td>ND-0005-RoebuckBay.pdf</td>\n",
       "      <td>http://sharkattackfile.net/spreadsheets/pdf_di...</td>\n",
       "      <td>http://sharkattackfile.net/spreadsheets/pdf_di...</td>\n",
       "      <td>ND.0005</td>\n",
       "      <td>ND.0005</td>\n",
       "      <td>6</td>\n",
       "      <td>NaN</td>\n",
       "      <td>NaN</td>\n",
       "    </tr>\n",
       "    <tr>\n",
       "      <th>5988</th>\n",
       "      <td>ND.0004</td>\n",
       "      <td>Before 1903</td>\n",
       "      <td>0</td>\n",
       "      <td>Unprovoked</td>\n",
       "      <td>AUSTRALIA</td>\n",
       "      <td>Western Australia</td>\n",
       "      <td>NaN</td>\n",
       "      <td>Pearl diving</td>\n",
       "      <td>Ahmun</td>\n",
       "      <td>M</td>\n",
       "      <td>...</td>\n",
       "      <td>NaN</td>\n",
       "      <td>H. Taunton; N. Bartlett,  pp. 233-234</td>\n",
       "      <td>ND-0004-Ahmun.pdf</td>\n",
       "      <td>http://sharkattackfile.net/spreadsheets/pdf_di...</td>\n",
       "      <td>http://sharkattackfile.net/spreadsheets/pdf_di...</td>\n",
       "      <td>ND.0004</td>\n",
       "      <td>ND.0004</td>\n",
       "      <td>5</td>\n",
       "      <td>NaN</td>\n",
       "      <td>NaN</td>\n",
       "    </tr>\n",
       "    <tr>\n",
       "      <th>5989</th>\n",
       "      <td>ND.0003</td>\n",
       "      <td>1900-1905</td>\n",
       "      <td>0</td>\n",
       "      <td>Unprovoked</td>\n",
       "      <td>USA</td>\n",
       "      <td>North Carolina</td>\n",
       "      <td>Ocracoke Inlet</td>\n",
       "      <td>Swimming</td>\n",
       "      <td>Coast Guard personnel</td>\n",
       "      <td>M</td>\n",
       "      <td>...</td>\n",
       "      <td>NaN</td>\n",
       "      <td>F. Schwartz, p.23; C. Creswell, GSAF</td>\n",
       "      <td>ND-0003-Ocracoke_1900-1905.pdf</td>\n",
       "      <td>http://sharkattackfile.net/spreadsheets/pdf_di...</td>\n",
       "      <td>http://sharkattackfile.net/spreadsheets/pdf_di...</td>\n",
       "      <td>ND.0003</td>\n",
       "      <td>ND.0003</td>\n",
       "      <td>4</td>\n",
       "      <td>NaN</td>\n",
       "      <td>NaN</td>\n",
       "    </tr>\n",
       "    <tr>\n",
       "      <th>5990</th>\n",
       "      <td>ND.0002</td>\n",
       "      <td>1883-1889</td>\n",
       "      <td>0</td>\n",
       "      <td>Unprovoked</td>\n",
       "      <td>PANAMA</td>\n",
       "      <td>NaN</td>\n",
       "      <td>Panama Bay 8�N, 79�W</td>\n",
       "      <td>NaN</td>\n",
       "      <td>Jules Patterson</td>\n",
       "      <td>M</td>\n",
       "      <td>...</td>\n",
       "      <td>NaN</td>\n",
       "      <td>The Sun, 10/20/1938</td>\n",
       "      <td>ND-0002-JulesPatterson.pdf</td>\n",
       "      <td>http://sharkattackfile.net/spreadsheets/pdf_di...</td>\n",
       "      <td>http://sharkattackfile.net/spreadsheets/pdf_di...</td>\n",
       "      <td>ND.0002</td>\n",
       "      <td>ND.0002</td>\n",
       "      <td>3</td>\n",
       "      <td>NaN</td>\n",
       "      <td>NaN</td>\n",
       "    </tr>\n",
       "    <tr>\n",
       "      <th>5991</th>\n",
       "      <td>ND.0001</td>\n",
       "      <td>1845-1853</td>\n",
       "      <td>0</td>\n",
       "      <td>Unprovoked</td>\n",
       "      <td>CEYLON (SRI LANKA)</td>\n",
       "      <td>Eastern Province</td>\n",
       "      <td>Below the English fort, Trincomalee</td>\n",
       "      <td>Swimming</td>\n",
       "      <td>male</td>\n",
       "      <td>M</td>\n",
       "      <td>...</td>\n",
       "      <td>NaN</td>\n",
       "      <td>S.W. Baker</td>\n",
       "      <td>ND-0001-Ceylon.pdf</td>\n",
       "      <td>http://sharkattackfile.net/spreadsheets/pdf_di...</td>\n",
       "      <td>http://sharkattackfile.net/spreadsheets/pdf_di...</td>\n",
       "      <td>ND.0001</td>\n",
       "      <td>ND.0001</td>\n",
       "      <td>2</td>\n",
       "      <td>NaN</td>\n",
       "      <td>NaN</td>\n",
       "    </tr>\n",
       "  </tbody>\n",
       "</table>\n",
       "<p>5992 rows × 24 columns</p>\n",
       "</div>"
      ],
      "text/plain": [
       "       Case Number         Date  Year        Type             Country  \\\n",
       "0     2016.09.18.c    18-Sep-16  2016  Unprovoked                 USA   \n",
       "1     2016.09.18.b    18-Sep-16  2016  Unprovoked                 USA   \n",
       "2     2016.09.18.a    18-Sep-16  2016  Unprovoked                 USA   \n",
       "3       2016.09.17    17-Sep-16  2016  Unprovoked           AUSTRALIA   \n",
       "4       2016.09.15    16-Sep-16  2016  Unprovoked           AUSTRALIA   \n",
       "...            ...          ...   ...         ...                 ...   \n",
       "5987       ND.0005  Before 1903     0  Unprovoked           AUSTRALIA   \n",
       "5988       ND.0004  Before 1903     0  Unprovoked           AUSTRALIA   \n",
       "5989       ND.0003    1900-1905     0  Unprovoked                 USA   \n",
       "5990       ND.0002    1883-1889     0  Unprovoked              PANAMA   \n",
       "5991       ND.0001    1845-1853     0  Unprovoked  CEYLON (SRI LANKA)   \n",
       "\n",
       "                   Area                             Location      Activity  \\\n",
       "0               Florida     New Smyrna Beach, Volusia County       Surfing   \n",
       "1               Florida     New Smyrna Beach, Volusia County       Surfing   \n",
       "2               Florida     New Smyrna Beach, Volusia County       Surfing   \n",
       "3              Victoria                     Thirteenth Beach       Surfing   \n",
       "4              Victoria                          Bells Beach       Surfing   \n",
       "...                 ...                                  ...           ...   \n",
       "5987  Western Australia                          Roebuck Bay        Diving   \n",
       "5988  Western Australia                                  NaN  Pearl diving   \n",
       "5989     North Carolina                       Ocracoke Inlet      Swimming   \n",
       "5990                NaN                 Panama Bay 8�N, 79�W           NaN   \n",
       "5991   Eastern Province  Below the English fort, Trincomalee      Swimming   \n",
       "\n",
       "                       Name Sex   ...   Species   \\\n",
       "0                      male    M  ...        NaN   \n",
       "1            Chucky Luciano    M  ...        NaN   \n",
       "2                      male    M  ...        NaN   \n",
       "3           Rory Angiolella    M  ...        NaN   \n",
       "4                      male    M  ...  2 m shark   \n",
       "...                     ...  ...  ...        ...   \n",
       "5987                   male    M  ...        NaN   \n",
       "5988                  Ahmun    M  ...        NaN   \n",
       "5989  Coast Guard personnel    M  ...        NaN   \n",
       "5990        Jules Patterson    M  ...        NaN   \n",
       "5991                   male    M  ...        NaN   \n",
       "\n",
       "                     Investigator or Source                             pdf  \\\n",
       "0               Orlando Sentinel, 9/19/2016            2016.09.18.c-NSB.pdf   \n",
       "1               Orlando Sentinel, 9/19/2016        2016.09.18.b-Luciano.pdf   \n",
       "2               Orlando Sentinel, 9/19/2016            2016.09.18.a-NSB.pdf   \n",
       "3                        The Age, 9/18/2016       2016.09.17-Angiolella.pdf   \n",
       "4                        The Age, 9/16/2016       2016.09.16-BellsBeach.pdf   \n",
       "...                                     ...                             ...   \n",
       "5987       H. Taunton; N. Bartlett,  p. 234          ND-0005-RoebuckBay.pdf   \n",
       "5988  H. Taunton; N. Bartlett,  pp. 233-234               ND-0004-Ahmun.pdf   \n",
       "5989   F. Schwartz, p.23; C. Creswell, GSAF  ND-0003-Ocracoke_1900-1905.pdf   \n",
       "5990                    The Sun, 10/20/1938      ND-0002-JulesPatterson.pdf   \n",
       "5991                             S.W. Baker              ND-0001-Ceylon.pdf   \n",
       "\n",
       "                                           href formula  \\\n",
       "0     http://sharkattackfile.net/spreadsheets/pdf_di...   \n",
       "1     http://sharkattackfile.net/spreadsheets/pdf_di...   \n",
       "2     http://sharkattackfile.net/spreadsheets/pdf_di...   \n",
       "3     http://sharkattackfile.net/spreadsheets/pdf_di...   \n",
       "4     http://sharkattackfile.net/spreadsheets/pdf_di...   \n",
       "...                                                 ...   \n",
       "5987  http://sharkattackfile.net/spreadsheets/pdf_di...   \n",
       "5988  http://sharkattackfile.net/spreadsheets/pdf_di...   \n",
       "5989  http://sharkattackfile.net/spreadsheets/pdf_di...   \n",
       "5990  http://sharkattackfile.net/spreadsheets/pdf_di...   \n",
       "5991  http://sharkattackfile.net/spreadsheets/pdf_di...   \n",
       "\n",
       "                                                   href Case Number.1  \\\n",
       "0     http://sharkattackfile.net/spreadsheets/pdf_di...  2016.09.18.c   \n",
       "1     http://sharkattackfile.net/spreadsheets/pdf_di...  2016.09.18.b   \n",
       "2     http://sharkattackfile.net/spreadsheets/pdf_di...  2016.09.18.a   \n",
       "3     http://sharkattackfile.net/spreadsheets/pdf_di...    2016.09.17   \n",
       "4     http://sharkattackfile.net/spreadsheets/pdf_di...    2016.09.16   \n",
       "...                                                 ...           ...   \n",
       "5987  http://sharkattackfile.net/spreadsheets/pdf_di...       ND.0005   \n",
       "5988  http://sharkattackfile.net/spreadsheets/pdf_di...       ND.0004   \n",
       "5989  http://sharkattackfile.net/spreadsheets/pdf_di...       ND.0003   \n",
       "5990  http://sharkattackfile.net/spreadsheets/pdf_di...       ND.0002   \n",
       "5991  http://sharkattackfile.net/spreadsheets/pdf_di...       ND.0001   \n",
       "\n",
       "     Case Number.2 original order Unnamed: 22 Unnamed: 23  \n",
       "0     2016.09.18.c           5993         NaN         NaN  \n",
       "1     2016.09.18.b           5992         NaN         NaN  \n",
       "2     2016.09.18.a           5991         NaN         NaN  \n",
       "3       2016.09.17           5990         NaN         NaN  \n",
       "4       2016.09.15           5989         NaN         NaN  \n",
       "...            ...            ...         ...         ...  \n",
       "5987       ND.0005              6         NaN         NaN  \n",
       "5988       ND.0004              5         NaN         NaN  \n",
       "5989       ND.0003              4         NaN         NaN  \n",
       "5990       ND.0002              3         NaN         NaN  \n",
       "5991       ND.0001              2         NaN         NaN  \n",
       "\n",
       "[5992 rows x 24 columns]"
      ]
     },
     "metadata": {},
     "output_type": "display_data"
    }
   ],
   "source": [
    "display(df)"
   ]
  },
  {
   "cell_type": "code",
   "execution_count": 4,
   "metadata": {},
   "outputs": [
    {
     "data": {
      "text/plain": [
       "(5992, 24)"
      ]
     },
     "metadata": {},
     "output_type": "display_data"
    }
   ],
   "source": [
    "display(df.drop_duplicates().shape)"
   ]
  },
  {
   "cell_type": "code",
   "execution_count": 5,
   "metadata": {},
   "outputs": [],
   "source": [
    "df = df.iloc[:, [0,1,4,8,9,10,12,19,20]]"
   ]
  },
  {
   "cell_type": "code",
   "execution_count": 6,
   "metadata": {},
   "outputs": [
    {
     "data": {
      "text/plain": [
       "Country          43\n",
       "Name            200\n",
       "Sex             567\n",
       "Age            2681\n",
       "Fatal (Y/N)      19\n",
       "dtype: int64"
      ]
     },
     "metadata": {},
     "output_type": "display_data"
    }
   ],
   "source": [
    "nullvals = df.isnull().sum()[df.isnull().sum() > 0]\n",
    "display(nullvals)"
   ]
  },
  {
   "cell_type": "code",
   "execution_count": 7,
   "metadata": {},
   "outputs": [],
   "source": [
    "df.dropna(subset = ['Country'], inplace = True)\n",
    "df.dropna(subset = ['Fatal (Y/N)'], inplace = True)"
   ]
  },
  {
   "cell_type": "code",
   "execution_count": 8,
   "metadata": {},
   "outputs": [
    {
     "data": {
      "text/plain": [
       "Name     191\n",
       "Sex      558\n",
       "Age     2633\n",
       "dtype: int64"
      ]
     },
     "metadata": {},
     "output_type": "display_data"
    }
   ],
   "source": [
    "nullvals = df.isnull().sum()[df.isnull().sum() > 0]\n",
    "display(nullvals)"
   ]
  },
  {
   "cell_type": "code",
   "execution_count": 9,
   "metadata": {},
   "outputs": [
    {
     "data": {
      "text/plain": [
       "4409          PHILIPPINES\n",
       "1811                TONGA\n",
       "1455                TONGA\n",
       "1454                TONGA\n",
       "3560    ADMIRALTY ISLANDS\n",
       "              ...        \n",
       "5351               YEMEN \n",
       "5361               YEMEN \n",
       "5389               YEMEN \n",
       "5369               YEMEN \n",
       "5237               YEMEN \n",
       "Name: Country, Length: 5931, dtype: object"
      ]
     },
     "metadata": {},
     "output_type": "display_data"
    }
   ],
   "source": [
    "df = df.sort_values(\"Country\", ascending = True)\n",
    "display(df[\"Country\"])"
   ]
  },
  {
   "cell_type": "code",
   "execution_count": 10,
   "metadata": {},
   "outputs": [
    {
     "data": {
      "text/plain": [
       "3560    ADMIRALTY ISLANDS\n",
       "5776              ALGERIA\n",
       "4060       AMERICAN SAMOA\n",
       "4090       AMERICAN SAMOA\n",
       "3905       AMERICAN SAMOA\n",
       "              ...        \n",
       "5350                YEMEN\n",
       "5351                YEMEN\n",
       "5361                YEMEN\n",
       "5389                YEMEN\n",
       "5237                YEMEN\n",
       "Name: Country, Length: 5931, dtype: object"
      ]
     },
     "metadata": {},
     "output_type": "display_data"
    }
   ],
   "source": [
    "df['Country'] = df['Country'].str.strip()\n",
    "df = df.sort_values(\"Country\", ascending = True)\n",
    "display(df['Country'])"
   ]
  },
  {
   "cell_type": "code",
   "execution_count": 11,
   "metadata": {},
   "outputs": [
    {
     "data": {
      "text/plain": [
       "array(['ADMIRALTY ISLANDS', 'ALGERIA', 'AMERICAN SAMOA',\n",
       "       'ANDAMAN / NICOBAR ISLANDAS', 'ANGOLA', 'ANTIGUA', 'ARGENTINA',\n",
       "       'ARUBA', 'ASIA?', 'ATLANTIC OCEAN', 'AUSTRALIA', 'AZORES',\n",
       "       'BAHAMAS', 'BAHREIN', 'BANGLADESH', 'BARBADOS', 'BAY OF BENGAL',\n",
       "       'BELIZE', 'BERMUDA', 'BRAZIL', 'BRITISH ISLES',\n",
       "       'BRITISH NEW GUINEA', 'BRITISH VIRGIN ISLANDS',\n",
       "       'BRITISH WEST INDIES', 'BURMA', 'Between PORTUGAL & INDIA',\n",
       "       'CANADA', 'CAPE VERDE', 'CARIBBEAN SEA', 'CAYMAN ISLANDS',\n",
       "       'CENTRAL PACIFIC', 'CEYLON (SRI LANKA)', 'CHILE', 'CHINA',\n",
       "       'COLUMBIA', 'COOK ISLANDS', 'COSTA RICA', 'CRETE', 'CROATIA',\n",
       "       'CUBA', 'CURACAO', 'CYPRUS', 'Coast of AFRICA', 'DIEGO GARCIA',\n",
       "       'DJIBOUTI', 'DOMINICAN REPUBLIC', 'ECUADOR', 'EGYPT',\n",
       "       'EGYPT / ISRAEL', 'EL SALVADOR', 'ENGLAND',\n",
       "       'EQUATORIAL GUINEA / CAMEROON', 'FALKLAND ISLANDS',\n",
       "       'FEDERATED STATES OF MICRONESIA', 'FIJI', 'FRANCE',\n",
       "       'FRENCH POLYNESIA', 'Fiji', 'GABON', 'GEORGIA', 'GHANA',\n",
       "       'GRAND CAYMAN', 'GREECE', 'GREENLAND', 'GRENADA', 'GUAM',\n",
       "       'GUATEMALA', 'GUINEA', 'GULF OF ADEN', 'GUYANA', 'HAITI',\n",
       "       'HONDURAS', 'HONG KONG', 'INDIA', 'INDIAN OCEAN', 'INDIAN OCEAN?',\n",
       "       'INDONESIA', 'IRAN', 'IRAN / IRAQ', 'IRAQ', 'IRELAND', 'ISRAEL',\n",
       "       'ITALY', 'ITALY / CROATIA', 'JAMAICA', 'JAPAN', 'JAVA',\n",
       "       'JOHNSTON ISLAND', 'KENYA', 'KIRIBATI', 'KOREA', 'KUWAIT',\n",
       "       'LEBANON', 'LIBERIA', 'LIBYA', 'MADAGASCAR', 'MALAYSIA',\n",
       "       'MALDIVE ISLANDS', 'MALTA', 'MARSHALL ISLANDS', 'MARTINIQUE',\n",
       "       'MAURITIUS', 'MAYOTTE', 'MEDITERRANEAN SEA', 'MEDITERRANEAN SEA?',\n",
       "       'MEXICO', 'MICRONESIA', 'MID ATLANTIC OCEAN', 'MID-PACIFC OCEAN',\n",
       "       'MONACO', 'MONTENEGRO', 'MOZAMBIQUE', 'NAMIBIA',\n",
       "       'NETHERLANDS ANTILLES', 'NEVIS', 'NEW BRITAIN', 'NEW CALEDONIA',\n",
       "       'NEW GUINEA', 'NEW ZEALAND', 'NICARAGUA', 'NIGERIA',\n",
       "       'NORTH ATLANTIC OCEAN', 'NORTH PACIFIC OCEAN', 'NORTH SEA',\n",
       "       'NORTHERN ARABIAN SEA', 'NORTHERN MARIANA ISLANDS', 'NORWAY',\n",
       "       'OCEAN', 'OKINAWA', 'PACIFIC OCEAN', 'PALAU',\n",
       "       'PALESTINIAN TERRITORIES', 'PANAMA', 'PAPUA NEW GUINEA',\n",
       "       'PARAGUAY', 'PERSIAN GULF', 'PHILIPPINES', 'PORTUGAL',\n",
       "       'PUERTO RICO', 'RED SEA', 'RED SEA / INDIAN OCEAN', 'RED SEA?',\n",
       "       'REUNION', 'RUSSIA', 'SAMOA', 'SAN DOMINGO', 'SAUDI ARABIA',\n",
       "       'SCOTLAND', 'SENEGAL', 'SEYCHELLES', 'SIERRA LEONE', 'SINGAPORE',\n",
       "       'SLOVENIA', 'SOLOMON ISLANDS', 'SOLOMON ISLANDS / VANUATU',\n",
       "       'SOMALIA', 'SOUTH AFRICA', 'SOUTH ATLANTIC OCEAN',\n",
       "       'SOUTH CHINA SEA', 'SOUTH KOREA', 'SOUTH PACIFIC OCEAN',\n",
       "       'SOUTHWEST PACIFIC OCEAN', 'SPAIN', 'SRI LANKA', 'ST. MAARTIN',\n",
       "       'ST. MARTIN', 'SUDAN', 'SUDAN?', 'SWEDEN', 'SYRIA', 'Seychelles',\n",
       "       'Sierra Leone', 'St Helena', 'TAIWAN', 'TANZANIA', 'TASMAN SEA',\n",
       "       'THAILAND', 'THE BALKANS', 'TONGA', 'TRINIDAD & TOBAGO', 'TUNISIA',\n",
       "       'TURKEY', 'TURKS & CAICOS', 'TUVALU', 'UNITED ARAB EMIRATES',\n",
       "       'UNITED ARAB EMIRATES (UAE)', 'UNITED KINGDOM', 'URUGUAY', 'USA',\n",
       "       'VANUATU', 'VENEZUELA', 'VIETNAM', 'WESTERN SAMOA', 'YEMEN'],\n",
       "      dtype=object)"
      ]
     },
     "execution_count": 11,
     "metadata": {},
     "output_type": "execute_result"
    }
   ],
   "source": [
    "df['Country'].unique()"
   ]
  },
  {
   "cell_type": "code",
   "execution_count": 12,
   "metadata": {},
   "outputs": [],
   "source": [
    "countryToContinent = {\n",
    "    'USA': 'AMERICA',\n",
    "    'AUSTRALIA': 'OCEANIA',\n",
    "    'NEW CALEDONIA': 'OCEANIA',\n",
    "    'REUNION': 'AFRICA',\n",
    "    'BAHAMAS': 'AMERICA',\n",
    "    'SPAIN': 'EUROPA',\n",
    "    'CHINA': 'ASIA',\n",
    "    'JAPAN': 'ASIA',\n",
    "    'COLUMBIA': 'AMERICA',\n",
    "    'SOUTH AFRICA': 'AMERICA',\n",
    "    'EGYPT': 'AFRICA',\n",
    "    'NEW ZEALAND': 'OCEANIA',\n",
    "    'INDONESIA': 'ASIA',\n",
    "    'FRENCH POLYNESIA': 'OCEANIA',\n",
    "    'CAPE VERDE': 'AFRICA',\n",
    "    'BRAZIL': 'AMERICA',\n",
    "    'DOMINICAN REPUBLIC': 'AMERICA',\n",
    "    'CAYMAN ISLANDS': 'AMERICA',\n",
    "    'UNITED ARAB EMIRATES': 'ASIA',\n",
    "    'ARUBA': 'AMERICA',\n",
    "    'MOZAMBIQUE': 'AFRICA',\n",
    "    'THAILAND': 'ASIA',\n",
    "    'FIJI': 'ASIA',\n",
    "    'PUERTO RICO': 'AMERICA',\n",
    "    'ITALY': 'EUROPA',\n",
    "    'MEXICO': 'AMERICA',\n",
    "    'GREECE': 'EUROPA',\n",
    "    'MAURITIUS': 'AFRICA',\n",
    "    'ST. MARTIN': 'AMERICA',\n",
    "    'FRANCE': 'EUROPA',\n",
    "    'ECUADOR': 'AMERICA',\n",
    "    'PAPUA NEW GUINEA': 'OCEANIA',\n",
    "    'TRINIDAD & TOBAGO': 'AMERICA',\n",
    "    'KIRIBATI': 'OCEANIA',\n",
    "    'ISRAEL': 'EUROPA',\n",
    "    'TAIWAN': 'ASIA',\n",
    "    'JAMAICA': 'AMERICA',\n",
    "    'PALESTINIAN TERRITORIES': 'ASIA',\n",
    "    'GUAM': 'OCEANIA',\n",
    "    'SEYCHELLES': 'AFRICA',\n",
    "    'BELIZE': 'AMERICA',\n",
    "    'PHILIPPINES': 'ASIA',\n",
    "    'NIGERIA': 'AFRICA',\n",
    "    'TONGA': 'OCEANIA',\n",
    "    'SCOTLAND': 'EUROPA',\n",
    "    'CANADA': 'AMERICA',\n",
    "    'CROATIA': 'EUROPA',\n",
    "    'SAUDI ARABIA': 'ASIA',\n",
    "    'CHILE': 'AMERICA',\n",
    "    'ANTIGUA': 'AMERICA',\n",
    "    'KENYA': 'AFRICA',\n",
    "    'RUSSIA': 'EUROPA',\n",
    "    'TURKS & CAICOS': 'AMERICA',\n",
    "    'COSTA RICA': 'AMERICA',\n",
    "    'UNITED KINGDOM': 'EUROPA',\n",
    "    'MALAYSIA': 'ASIA',\n",
    "    'UNITED ARAB EMIRATES (UAE)': 'ASIA',\n",
    "    'SAMOA': 'OCEANIA', \n",
    "    'AZORES': 'EUROPA', \n",
    "    'SOLOMON ISLANDS': 'OCEANIA', \n",
    "    'SOUTH KOREA': 'ASIA', \n",
    "    'MALTA': 'EUROPA',\n",
    "    'VIETNAM': 'ASIA', \n",
    "    'MADAGASCAR': 'AFRICA', \n",
    "    'PANAMA': 'AMERICA', \n",
    "    'SOMALIA': 'AFRICA', \n",
    "    'NEVIS': 'AMERICA', \n",
    "    'CUBA': 'AMERICA',\n",
    "    'ENGLAND': 'EUROPA', \n",
    "    'BRITISH VIRGIN ISLANDS': 'AMERICA', \n",
    "    'NORWAY': 'EUROPA', \n",
    "    'SENEGAL': 'AFRICA', \n",
    "    'YEMEN': 'ASIA', \n",
    "    'SIERRA LEONE': 'AFRICA', \n",
    "    'ST. MAARTIN': 'AMERICA', \n",
    "    'GRAND CAYMAN': 'AMERICA',\n",
    "    'SEYCHELLES': 'AFRICA', \n",
    "    'LIBERIA': 'AFRICA', \n",
    "    'VANUATU': 'OCEANIA', \n",
    "    'MEXICO ': 'AMERICA', \n",
    "    'HONDURAS': 'AMERICA',\n",
    "    'VENEZUELA': 'AMERICA',\n",
    "    'SRI LANKA': 'ASIA',\n",
    "    'TONGA': 'OCEANIA',\n",
    "    'URUGUAY': 'AMERICA',\n",
    "    'INDIA': 'ASIA',\n",
    "    'MICRONESIA': 'OCEANIA', \n",
    "    'CARIBBEAN SEA': 'AMERICA', \n",
    "    'OKINAWA': 'ASIA', \n",
    "    'TANZANIA': 'AFRICA',\n",
    "    'MARSHALL ISLANDS': 'OCEANIA',  \n",
    "    'NORTHERN ARABIAN SEA': 'ASIA',\n",
    "    'HONG KONG': 'ASIA', \n",
    "    'EL SALVADOR': 'AMERICA', \n",
    "    'ANGOLA': 'AFRICA', \n",
    "    'BERMUDA': 'AMERICA', \n",
    "    'MONTENEGRO': 'EUROPA',\n",
    "    'IRAN': 'ASIA', \n",
    "    'TUNISIA': 'AFRICA', \n",
    "    'NAMIBIA': 'AFRICA', \n",
    "    'NORTH ATLANTIC OCEAN': 'ASIA', \n",
    "    'PORTUGAL': 'EUROPA',\n",
    "    'SOUTH CHINA SEA': 'ASIA', \n",
    "    'BANGLADESH': 'ASIA', \n",
    "    'PALAU': 'OCEANIA', \n",
    "    'WESTERN SAMOA': 'OCEANIA',\n",
    "    'PACIFIC OCEAN ': 'OCEANIA', \n",
    "    'BRITISH ISLES': 'EUROPA',\n",
    "    'GRENADA': 'AMERICA', \n",
    "    'IRAQ': 'ASIA', \n",
    "    'TURKEY': 'EUROPA',\n",
    "    'SINGAPORE': 'ASIA', \n",
    "    'NEW BRITAIN': 'AMERICA', \n",
    "    'SUDAN': 'AFRICA', \n",
    "    'JOHNSTON ISLAND': 'AMERICA',\n",
    "    'SOUTH PACIFIC OCEAN': 'OCEANIA', \n",
    "    'NEW GUINEA': 'OCEANIA',  \n",
    "    'FEDERATED STATES OF MICRONESIA': 'OCEANIA',\n",
    "    'ADMIRALTY ISLANDS': 'OCEANIA',  \n",
    "    'PERSIAN GULF': 'ASIA', \n",
    "    'PACIFIC OCEAN': 'OCEANIA', \n",
    "    'NORTH SEA': 'EUROPA', \n",
    "    'NICARAGUA ': 'AMERICA', \n",
    "    'MALDIVE ISLANDS': 'ASIA',\n",
    "    'AMERICAN SAMOA': 'OCEANIA', \n",
    "    'ANDAMAN / NICOBAR ISLANDAS': 'ASIA', \n",
    "    'GABON': 'AFRICA', \n",
    "    'MAYOTTE': 'AFRICA',\n",
    "    'NORTH ATLANTIC OCEAN ': 'EUROPA', \n",
    "    'THE BALKANS': 'EUROPA', \n",
    "    'SUDAN': 'AFRICA', \n",
    "    'ARGENTINA': 'AMERICA',\n",
    "    'MARTINIQUE': 'AMERICA', \n",
    "    'GUATEMALA': 'AMERICA', \n",
    "    'NETHERLANDS ANTILLES': 'AMERICA',\n",
    "    'NORTHERN MARIANA ISLANDS': 'OCEANIA', \n",
    "    'IRAN / IRAQ': 'ASIA', \n",
    "    'JAVA': 'ASIA', \n",
    "    'SIERRA LEONE': 'AFRICA',\n",
    "    'PHILIPPINES': 'ASIA', \n",
    "    'NICARAGUA': 'AMERICA', \n",
    "    'CENTRAL PACIFIC': 'AMERICA',\n",
    "    'SOLOMON ISLANDS / VANUATU': 'OCEANIA',\n",
    "    'BAY OF BENGAL': 'ASIA',\n",
    "    'SLOVENIA': 'EUROPA',\n",
    "    'CURACAO': 'AMERICA',\n",
    "    'ITALY / CROATIA': 'EUROPA',\n",
    "    'BARBADOS': 'AMERICA',\n",
    "    'MONACO': 'EUROPA',\n",
    "    'GUYANA': 'AMERICA',\n",
    "    'HAITI': 'AMERICA',\n",
    "    'SAN DOMINGO': 'AMERICA',\n",
    "    'IRELAND': 'EUROPA',\n",
    "    'KUWAIT': 'ASIA',\n",
    "    'LIBYA': 'AFRICA',\n",
    "    'YEMEN ': 'ASIA',\n",
    "    'FALKLAND ISLANDS': 'AMERICA',\n",
    "    'CRETE': 'EUROPA',\n",
    "    'CYPRUS': 'EUROPA',\n",
    "    'EGYPT ': 'AFRICA',\n",
    "    'BURMA': 'ASIA',\n",
    "    'LEBANON': 'ASIA',\n",
    "    'PARAGUAY': 'AMERICA',\n",
    "    'BRITISH NEW GUINEA': 'OCEANIA',\n",
    "    'SYRIA': 'ASIA',\n",
    "    'TUVALU': 'OCEANIA',\n",
    "    'GUINEA': 'AFRICA',\n",
    "    'EQUATORIAL GUINEA / CAMEROON': 'AFRICA',\n",
    "    'COOK ISLANDS': 'OCEANIA',\n",
    "    'ALGERIA': 'AFRICA',\n",
    "    'COAST OF AFRICA': 'AFRICA',\n",
    "    'TASMAN SEA': 'OCEANIA',\n",
    "    'GHANA': 'AFRICA',\n",
    "    'ST HELENA': 'AFRICA',\n",
    "    'GREENLAND': 'AMERICA',\n",
    "    'SWEDEN': 'EUROPA',\n",
    "    'ICELAND': 'EUROPA',\n",
    "    'DJIBOUTI': 'AFRICA',\n",
    "    'BAHREIN': 'ASIA',\n",
    "    'KOREA': 'ASIA',\n",
    "    'ASIA': 'ASIA',\n",
    "    'CEYLON (SRI LANKA)': 'ASIA'\n",
    "}"
   ]
  },
  {
   "cell_type": "code",
   "execution_count": 13,
   "metadata": {},
   "outputs": [
    {
     "data": {
      "text/html": [
       "<div>\n",
       "<style scoped>\n",
       "    .dataframe tbody tr th:only-of-type {\n",
       "        vertical-align: middle;\n",
       "    }\n",
       "\n",
       "    .dataframe tbody tr th {\n",
       "        vertical-align: top;\n",
       "    }\n",
       "\n",
       "    .dataframe thead th {\n",
       "        text-align: right;\n",
       "    }\n",
       "</style>\n",
       "<table border=\"1\" class=\"dataframe\">\n",
       "  <thead>\n",
       "    <tr style=\"text-align: right;\">\n",
       "      <th></th>\n",
       "      <th>Case Number</th>\n",
       "      <th>Date</th>\n",
       "      <th>Country</th>\n",
       "      <th>Name</th>\n",
       "      <th>Sex</th>\n",
       "      <th>Age</th>\n",
       "      <th>Fatal (Y/N)</th>\n",
       "      <th>Case Number.1</th>\n",
       "      <th>Case Number.2</th>\n",
       "      <th>Continent</th>\n",
       "    </tr>\n",
       "  </thead>\n",
       "  <tbody>\n",
       "    <tr>\n",
       "      <th>3560</th>\n",
       "      <td>1962.10.15</td>\n",
       "      <td>15-Oct-62</td>\n",
       "      <td>ADMIRALTY ISLANDS</td>\n",
       "      <td>Pasingan</td>\n",
       "      <td>M</td>\n",
       "      <td>26</td>\n",
       "      <td>N</td>\n",
       "      <td>1962.10.15</td>\n",
       "      <td>1962.10.15</td>\n",
       "      <td>OCEANIA</td>\n",
       "    </tr>\n",
       "    <tr>\n",
       "      <th>5776</th>\n",
       "      <td>1844.07.16.R</td>\n",
       "      <td>1844.07.16.R</td>\n",
       "      <td>ALGERIA</td>\n",
       "      <td>male</td>\n",
       "      <td>M</td>\n",
       "      <td>NaN</td>\n",
       "      <td>Y</td>\n",
       "      <td>1844.07.16.R</td>\n",
       "      <td>1844.07.16.R</td>\n",
       "      <td>AFRICA</td>\n",
       "    </tr>\n",
       "    <tr>\n",
       "      <th>4060</th>\n",
       "      <td>1955.08.08</td>\n",
       "      <td>08-Aug-55</td>\n",
       "      <td>AMERICAN SAMOA</td>\n",
       "      <td>Sailor from tuna vessel</td>\n",
       "      <td>M</td>\n",
       "      <td>28</td>\n",
       "      <td>Y</td>\n",
       "      <td>1955.08.08</td>\n",
       "      <td>1955.08.08</td>\n",
       "      <td>OCEANIA</td>\n",
       "    </tr>\n",
       "    <tr>\n",
       "      <th>4090</th>\n",
       "      <td>1954.12.29</td>\n",
       "      <td>29-Dec-54</td>\n",
       "      <td>AMERICAN SAMOA</td>\n",
       "      <td>Kosuo Mizokawa, Captain of a Japanese trawler</td>\n",
       "      <td>M</td>\n",
       "      <td>27</td>\n",
       "      <td>Y</td>\n",
       "      <td>1954.12.29</td>\n",
       "      <td>1954.12.29</td>\n",
       "      <td>OCEANIA</td>\n",
       "    </tr>\n",
       "    <tr>\n",
       "      <th>3905</th>\n",
       "      <td>1958.12.12</td>\n",
       "      <td>12-Dec-58</td>\n",
       "      <td>AMERICAN SAMOA</td>\n",
       "      <td>Sailor of tuna vessel No.12 Taiyo Marei</td>\n",
       "      <td>M</td>\n",
       "      <td>22</td>\n",
       "      <td>Y</td>\n",
       "      <td>1958.12.12</td>\n",
       "      <td>1958.12.12</td>\n",
       "      <td>OCEANIA</td>\n",
       "    </tr>\n",
       "    <tr>\n",
       "      <th>...</th>\n",
       "      <td>...</td>\n",
       "      <td>...</td>\n",
       "      <td>...</td>\n",
       "      <td>...</td>\n",
       "      <td>...</td>\n",
       "      <td>...</td>\n",
       "      <td>...</td>\n",
       "      <td>...</td>\n",
       "      <td>...</td>\n",
       "      <td>...</td>\n",
       "    </tr>\n",
       "    <tr>\n",
       "      <th>5350</th>\n",
       "      <td>1898.07.15</td>\n",
       "      <td>15-Jul-1898</td>\n",
       "      <td>YEMEN</td>\n",
       "      <td>Somali boatman</td>\n",
       "      <td>M</td>\n",
       "      <td>24</td>\n",
       "      <td>Y</td>\n",
       "      <td>1898.07.15</td>\n",
       "      <td>1898.07.15</td>\n",
       "      <td>ASIA</td>\n",
       "    </tr>\n",
       "    <tr>\n",
       "      <th>5351</th>\n",
       "      <td>1898.07.14</td>\n",
       "      <td>14-Jul-1898</td>\n",
       "      <td>YEMEN</td>\n",
       "      <td>Davies</td>\n",
       "      <td>M</td>\n",
       "      <td>22</td>\n",
       "      <td>Y</td>\n",
       "      <td>1898.07.14</td>\n",
       "      <td>1898.07.14</td>\n",
       "      <td>ASIA</td>\n",
       "    </tr>\n",
       "    <tr>\n",
       "      <th>5361</th>\n",
       "      <td>1898.00.00.a</td>\n",
       "      <td>Summer of 1898</td>\n",
       "      <td>YEMEN</td>\n",
       "      <td>male</td>\n",
       "      <td>M</td>\n",
       "      <td>NaN</td>\n",
       "      <td>Y</td>\n",
       "      <td>1898.00.00.a</td>\n",
       "      <td>1898.00.00.a</td>\n",
       "      <td>ASIA</td>\n",
       "    </tr>\n",
       "    <tr>\n",
       "      <th>5389</th>\n",
       "      <td>1895.09.14.R</td>\n",
       "      <td>Reported 14-Sep-1895</td>\n",
       "      <td>YEMEN</td>\n",
       "      <td>a native boy</td>\n",
       "      <td>M</td>\n",
       "      <td>NaN</td>\n",
       "      <td>Y</td>\n",
       "      <td>1895.09.14.R</td>\n",
       "      <td>1895.09.14.R</td>\n",
       "      <td>ASIA</td>\n",
       "    </tr>\n",
       "    <tr>\n",
       "      <th>5237</th>\n",
       "      <td>1906.08.20</td>\n",
       "      <td>20-Aug-06</td>\n",
       "      <td>YEMEN</td>\n",
       "      <td>boy</td>\n",
       "      <td>M</td>\n",
       "      <td>NaN</td>\n",
       "      <td>N</td>\n",
       "      <td>1906.08.20</td>\n",
       "      <td>1906.08.20</td>\n",
       "      <td>ASIA</td>\n",
       "    </tr>\n",
       "  </tbody>\n",
       "</table>\n",
       "<p>5931 rows × 10 columns</p>\n",
       "</div>"
      ],
      "text/plain": [
       "       Case Number                  Date            Country  \\\n",
       "3560    1962.10.15             15-Oct-62  ADMIRALTY ISLANDS   \n",
       "5776  1844.07.16.R          1844.07.16.R            ALGERIA   \n",
       "4060    1955.08.08             08-Aug-55     AMERICAN SAMOA   \n",
       "4090    1954.12.29             29-Dec-54     AMERICAN SAMOA   \n",
       "3905    1958.12.12             12-Dec-58     AMERICAN SAMOA   \n",
       "...            ...                   ...                ...   \n",
       "5350    1898.07.15           15-Jul-1898              YEMEN   \n",
       "5351    1898.07.14           14-Jul-1898              YEMEN   \n",
       "5361  1898.00.00.a        Summer of 1898              YEMEN   \n",
       "5389  1895.09.14.R  Reported 14-Sep-1895              YEMEN   \n",
       "5237    1906.08.20             20-Aug-06              YEMEN   \n",
       "\n",
       "                                               Name Sex   Age Fatal (Y/N)  \\\n",
       "3560                                       Pasingan    M   26           N   \n",
       "5776                                           male    M  NaN           Y   \n",
       "4060                        Sailor from tuna vessel    M   28           Y   \n",
       "4090  Kosuo Mizokawa, Captain of a Japanese trawler    M   27           Y   \n",
       "3905        Sailor of tuna vessel No.12 Taiyo Marei    M   22           Y   \n",
       "...                                             ...  ...  ...         ...   \n",
       "5350                                 Somali boatman    M   24           Y   \n",
       "5351                                         Davies    M   22           Y   \n",
       "5361                                           male    M  NaN           Y   \n",
       "5389                                  a native boy     M  NaN           Y   \n",
       "5237                                            boy    M  NaN           N   \n",
       "\n",
       "     Case Number.1 Case Number.2 Continent  \n",
       "3560    1962.10.15    1962.10.15   OCEANIA  \n",
       "5776  1844.07.16.R  1844.07.16.R    AFRICA  \n",
       "4060    1955.08.08    1955.08.08   OCEANIA  \n",
       "4090    1954.12.29    1954.12.29   OCEANIA  \n",
       "3905    1958.12.12    1958.12.12   OCEANIA  \n",
       "...            ...           ...       ...  \n",
       "5350    1898.07.15    1898.07.15      ASIA  \n",
       "5351    1898.07.14    1898.07.14      ASIA  \n",
       "5361  1898.00.00.a  1898.00.00.a      ASIA  \n",
       "5389  1895.09.14.R  1895.09.14.R      ASIA  \n",
       "5237    1906.08.20    1906.08.20      ASIA  \n",
       "\n",
       "[5931 rows x 10 columns]"
      ]
     },
     "metadata": {},
     "output_type": "display_data"
    }
   ],
   "source": [
    "uppercasedCountry = df['Country'].str.upper() \n",
    "df['Continent'] = uppercasedCountry.map(countryToContinent)\n",
    "display(df)"
   ]
  },
  {
   "cell_type": "code",
   "execution_count": 14,
   "metadata": {},
   "outputs": [
    {
     "data": {
      "text/plain": [
       "Continent\n",
       "AFRICA      241\n",
       "AMERICA    3216\n",
       "ASIA        398\n",
       "EUROPA      261\n",
       "OCEANIA    1750\n",
       "dtype: int64"
      ]
     },
     "execution_count": 14,
     "metadata": {},
     "output_type": "execute_result"
    }
   ],
   "source": [
    "result = df.groupby([\"Continent\"])\n",
    "result.size()"
   ]
  },
  {
   "cell_type": "code",
   "execution_count": 15,
   "metadata": {},
   "outputs": [
    {
     "data": {
      "text/plain": [
       "<matplotlib.axes._subplots.AxesSubplot at 0x11528e210>"
      ]
     },
     "execution_count": 15,
     "metadata": {},
     "output_type": "execute_result"
    },
    {
     "data": {
      "image/png": "[encoded data removed]",
      "text/plain": [
       "<Figure size 432x288 with 1 Axes>"
      ]
     },
     "metadata": {
      "needs_background": "light"
     },
     "output_type": "display_data"
    }
   ],
   "source": [
    "result = df.groupby([\"Continent\"])\n",
    "result.size().plot.bar()"
   ]
  },
  {
   "cell_type": "code",
   "execution_count": 16,
   "metadata": {},
   "outputs": [
    {
     "data": {
      "text/plain": [
       "AMERICA    0.548244\n",
       "OCEANIA    0.298329\n",
       "ASIA       0.067849\n",
       "EUROPA     0.044494\n",
       "AFRICA     0.041084\n",
       "Name: Continent, dtype: float64"
      ]
     },
     "metadata": {},
     "output_type": "display_data"
    }
   ],
   "source": [
    "display(df['Continent'].value_counts(normalize = True))"
   ]
  },
  {
   "cell_type": "code",
   "execution_count": 17,
   "metadata": {},
   "outputs": [
    {
     "data": {
      "text/plain": [
       "Continent  Fatal (Y/N)\n",
       "AFRICA     N               114\n",
       "           UNKNOWN           5\n",
       "           Y               122\n",
       "AMERICA    #VALUE!           1\n",
       "           N              2578\n",
       "           UNKNOWN          35\n",
       "           Y               601\n",
       "           n                 1\n",
       "ASIA       N               196\n",
       "           UNKNOWN          11\n",
       "           Y               191\n",
       "EUROPA     F                 1\n",
       "           N               169\n",
       "           UNKNOWN           8\n",
       "           Y                83\n",
       "OCEANIA     N                8\n",
       "           N              1203\n",
       "           N                 1\n",
       "           UNKNOWN          33\n",
       "           Y               505\n",
       "dtype: int64"
      ]
     },
     "execution_count": 17,
     "metadata": {},
     "output_type": "execute_result"
    }
   ],
   "source": [
    "result2 = df.groupby([\"Continent\", \"Fatal (Y/N)\"])\n",
    "result2.size()"
   ]
  },
  {
   "cell_type": "code",
   "execution_count": 18,
   "metadata": {},
   "outputs": [
    {
     "data": {
      "text/plain": [
       "Continent  Fatal (Y/N)\n",
       "AFRICA     N               114\n",
       "           UNKNOWN           5\n",
       "           Y               122\n",
       "AMERICA    N              2579\n",
       "           UNKNOWN          35\n",
       "           Y               601\n",
       "ASIA       N               196\n",
       "           UNKNOWN          11\n",
       "           Y               191\n",
       "EUROPA     N               169\n",
       "           UNKNOWN           8\n",
       "           Y                83\n",
       "OCEANIA    N              1212\n",
       "           UNKNOWN          33\n",
       "           Y               505\n",
       "dtype: int64"
      ]
     },
     "execution_count": 18,
     "metadata": {},
     "output_type": "execute_result"
    }
   ],
   "source": [
    "df['Fatal (Y/N)'] = df['Fatal (Y/N)'].str.strip()\n",
    "df['Fatal (Y/N)'] = df['Fatal (Y/N)'].str.upper()\n",
    "df = df.loc[df['Fatal (Y/N)'].isin(['Y','N','UNKNOWN'])]\n",
    "result2 = df.groupby([\"Continent\", \"Fatal (Y/N)\"])\n",
    "result2.size()"
   ]
  },
  {
   "cell_type": "code",
   "execution_count": 19,
   "metadata": {},
   "outputs": [
    {
     "data": {
      "text/plain": [
       "<matplotlib.axes._subplots.AxesSubplot at 0x1153a6c50>"
      ]
     },
     "execution_count": 19,
     "metadata": {},
     "output_type": "execute_result"
    },
    {
     "data": {
      "image/png": "[encoded data removed]",
      "text/plain": [
       "<Figure size 432x288 with 1 Axes>"
      ]
     },
     "metadata": {
      "needs_background": "light"
     },
     "output_type": "display_data"
    }
   ],
   "source": [
    "result2.size().plot.bar()"
   ]
  },
  {
   "cell_type": "code",
   "execution_count": 20,
   "metadata": {},
   "outputs": [
    {
     "data": {
      "text/plain": [
       "N          0.726429\n",
       "Y          0.258054\n",
       "UNKNOWN    0.015517\n",
       "Name: Fatal (Y/N), dtype: float64"
      ]
     },
     "metadata": {},
     "output_type": "display_data"
    }
   ],
   "source": [
    "display(df['Fatal (Y/N)'].value_counts(normalize = True))"
   ]
  },
  {
   "cell_type": "code",
   "execution_count": 21,
   "metadata": {},
   "outputs": [
    {
     "name": "stderr",
     "output_type": "stream",
     "text": [
      "/usr/local/lib/python3.7/site-packages/ipykernel_launcher.py:2: SettingWithCopyWarning: \n",
      "A value is trying to be set on a copy of a slice from a DataFrame.\n",
      "Try using .loc[row_indexer,col_indexer] = value instead\n",
      "\n",
      "See the caveats in the documentation: http://pandas.pydata.org/pandas-docs/stable/user_guide/indexing.html#returning-a-view-versus-a-copy\n",
      "  \n",
      "/usr/local/lib/python3.7/site-packages/ipykernel_launcher.py:4: SettingWithCopyWarning: \n",
      "A value is trying to be set on a copy of a slice from a DataFrame.\n",
      "Try using .loc[row_indexer,col_indexer] = value instead\n",
      "\n",
      "See the caveats in the documentation: http://pandas.pydata.org/pandas-docs/stable/user_guide/indexing.html#returning-a-view-versus-a-copy\n",
      "  after removing the cwd from sys.path.\n"
     ]
    },
    {
     "data": {
      "text/html": [
       "<div>\n",
       "<style scoped>\n",
       "    .dataframe tbody tr th:only-of-type {\n",
       "        vertical-align: middle;\n",
       "    }\n",
       "\n",
       "    .dataframe tbody tr th {\n",
       "        vertical-align: top;\n",
       "    }\n",
       "\n",
       "    .dataframe thead th {\n",
       "        text-align: right;\n",
       "    }\n",
       "</style>\n",
       "<table border=\"1\" class=\"dataframe\">\n",
       "  <thead>\n",
       "    <tr style=\"text-align: right;\">\n",
       "      <th></th>\n",
       "      <th></th>\n",
       "      <th>Total</th>\n",
       "      <th>Percent Africa</th>\n",
       "    </tr>\n",
       "    <tr>\n",
       "      <th>Continent</th>\n",
       "      <th>Fatal (Y/N)</th>\n",
       "      <th></th>\n",
       "      <th></th>\n",
       "    </tr>\n",
       "  </thead>\n",
       "  <tbody>\n",
       "    <tr>\n",
       "      <th rowspan=\"3\" valign=\"top\">AFRICA</th>\n",
       "      <th>N</th>\n",
       "      <td>114</td>\n",
       "      <td>0.473029</td>\n",
       "    </tr>\n",
       "    <tr>\n",
       "      <th>UNKNOWN</th>\n",
       "      <td>5</td>\n",
       "      <td>0.020747</td>\n",
       "    </tr>\n",
       "    <tr>\n",
       "      <th>Y</th>\n",
       "      <td>122</td>\n",
       "      <td>0.506224</td>\n",
       "    </tr>\n",
       "  </tbody>\n",
       "</table>\n",
       "</div>"
      ],
      "text/plain": [
       "                       Total  Percent Africa\n",
       "Continent Fatal (Y/N)                       \n",
       "AFRICA    N              114        0.473029\n",
       "          UNKNOWN          5        0.020747\n",
       "          Y              122        0.506224"
      ]
     },
     "execution_count": 21,
     "metadata": {},
     "output_type": "execute_result"
    }
   ],
   "source": [
    "cuenta = 1\n",
    "df['Total'] = cuenta\n",
    "africaDf = df[df['Continent'] == 'AFRICA']\n",
    "africaDf['Percent Africa'] = 1 / len(africaDf.index)\n",
    "africaDf.groupby(['Continent', 'Fatal (Y/N)']).sum()"
   ]
  },
  {
   "cell_type": "code",
   "execution_count": 22,
   "metadata": {},
   "outputs": [
    {
     "data": {
      "text/plain": [
       "<matplotlib.axes._subplots.AxesSubplot at 0x11554d450>"
      ]
     },
     "execution_count": 22,
     "metadata": {},
     "output_type": "execute_result"
    },
    {
     "data": {
      "image/png": "[encoded data removed]",
      "text/plain": [
       "<Figure size 432x288 with 1 Axes>"
      ]
     },
     "metadata": {
      "needs_background": "light"
     },
     "output_type": "display_data"
    }
   ],
   "source": [
    "%matplotlib inline\n",
    "africaDf.groupby(['Continent', 'Fatal (Y/N)']).sum().plot.bar()"
   ]
  },
  {
   "cell_type": "code",
   "execution_count": 23,
   "metadata": {},
   "outputs": [
    {
     "name": "stderr",
     "output_type": "stream",
     "text": [
      "/usr/local/lib/python3.7/site-packages/ipykernel_launcher.py:2: SettingWithCopyWarning: \n",
      "A value is trying to be set on a copy of a slice from a DataFrame.\n",
      "Try using .loc[row_indexer,col_indexer] = value instead\n",
      "\n",
      "See the caveats in the documentation: http://pandas.pydata.org/pandas-docs/stable/user_guide/indexing.html#returning-a-view-versus-a-copy\n",
      "  \n"
     ]
    },
    {
     "data": {
      "text/html": [
       "<div>\n",
       "<style scoped>\n",
       "    .dataframe tbody tr th:only-of-type {\n",
       "        vertical-align: middle;\n",
       "    }\n",
       "\n",
       "    .dataframe tbody tr th {\n",
       "        vertical-align: top;\n",
       "    }\n",
       "\n",
       "    .dataframe thead th {\n",
       "        text-align: right;\n",
       "    }\n",
       "</style>\n",
       "<table border=\"1\" class=\"dataframe\">\n",
       "  <thead>\n",
       "    <tr style=\"text-align: right;\">\n",
       "      <th></th>\n",
       "      <th></th>\n",
       "      <th>Total</th>\n",
       "      <th>Percent America</th>\n",
       "    </tr>\n",
       "    <tr>\n",
       "      <th>Continent</th>\n",
       "      <th>Fatal (Y/N)</th>\n",
       "      <th></th>\n",
       "      <th></th>\n",
       "    </tr>\n",
       "  </thead>\n",
       "  <tbody>\n",
       "    <tr>\n",
       "      <th rowspan=\"3\" valign=\"top\">AMERICA</th>\n",
       "      <th>N</th>\n",
       "      <td>2579</td>\n",
       "      <td>0.802177</td>\n",
       "    </tr>\n",
       "    <tr>\n",
       "      <th>UNKNOWN</th>\n",
       "      <td>35</td>\n",
       "      <td>0.010886</td>\n",
       "    </tr>\n",
       "    <tr>\n",
       "      <th>Y</th>\n",
       "      <td>601</td>\n",
       "      <td>0.186936</td>\n",
       "    </tr>\n",
       "  </tbody>\n",
       "</table>\n",
       "</div>"
      ],
      "text/plain": [
       "                       Total  Percent America\n",
       "Continent Fatal (Y/N)                        \n",
       "AMERICA   N             2579         0.802177\n",
       "          UNKNOWN         35         0.010886\n",
       "          Y              601         0.186936"
      ]
     },
     "execution_count": 23,
     "metadata": {},
     "output_type": "execute_result"
    }
   ],
   "source": [
    "americaDf = df[df['Continent'] == 'AMERICA']\n",
    "americaDf['Percent America'] = 1 / len(americaDf.index)\n",
    "americaDf.groupby(['Continent', 'Fatal (Y/N)']).sum()"
   ]
  },
  {
   "cell_type": "code",
   "execution_count": 24,
   "metadata": {},
   "outputs": [
    {
     "data": {
      "text/plain": [
       "<matplotlib.axes._subplots.AxesSubplot at 0x115212750>"
      ]
     },
     "execution_count": 24,
     "metadata": {},
     "output_type": "execute_result"
    },
    {
     "data": {
      "image/png": "[encoded data removed]",
      "text/plain": [
       "<Figure size 432x288 with 1 Axes>"
      ]
     },
     "metadata": {
      "needs_background": "light"
     },
     "output_type": "display_data"
    }
   ],
   "source": [
    "%matplotlib inline\n",
    "americaDf.groupby(['Continent', 'Fatal (Y/N)']).sum().plot.bar()"
   ]
  },
  {
   "cell_type": "code",
   "execution_count": 25,
   "metadata": {},
   "outputs": [
    {
     "name": "stderr",
     "output_type": "stream",
     "text": [
      "/usr/local/lib/python3.7/site-packages/ipykernel_launcher.py:2: SettingWithCopyWarning: \n",
      "A value is trying to be set on a copy of a slice from a DataFrame.\n",
      "Try using .loc[row_indexer,col_indexer] = value instead\n",
      "\n",
      "See the caveats in the documentation: http://pandas.pydata.org/pandas-docs/stable/user_guide/indexing.html#returning-a-view-versus-a-copy\n",
      "  \n"
     ]
    },
    {
     "data": {
      "text/html": [
       "<div>\n",
       "<style scoped>\n",
       "    .dataframe tbody tr th:only-of-type {\n",
       "        vertical-align: middle;\n",
       "    }\n",
       "\n",
       "    .dataframe tbody tr th {\n",
       "        vertical-align: top;\n",
       "    }\n",
       "\n",
       "    .dataframe thead th {\n",
       "        text-align: right;\n",
       "    }\n",
       "</style>\n",
       "<table border=\"1\" class=\"dataframe\">\n",
       "  <thead>\n",
       "    <tr style=\"text-align: right;\">\n",
       "      <th></th>\n",
       "      <th></th>\n",
       "      <th>Total</th>\n",
       "      <th>Percent Oceania</th>\n",
       "    </tr>\n",
       "    <tr>\n",
       "      <th>Continent</th>\n",
       "      <th>Fatal (Y/N)</th>\n",
       "      <th></th>\n",
       "      <th></th>\n",
       "    </tr>\n",
       "  </thead>\n",
       "  <tbody>\n",
       "    <tr>\n",
       "      <th rowspan=\"3\" valign=\"top\">OCEANIA</th>\n",
       "      <th>N</th>\n",
       "      <td>1212</td>\n",
       "      <td>0.692571</td>\n",
       "    </tr>\n",
       "    <tr>\n",
       "      <th>UNKNOWN</th>\n",
       "      <td>33</td>\n",
       "      <td>0.018857</td>\n",
       "    </tr>\n",
       "    <tr>\n",
       "      <th>Y</th>\n",
       "      <td>505</td>\n",
       "      <td>0.288571</td>\n",
       "    </tr>\n",
       "  </tbody>\n",
       "</table>\n",
       "</div>"
      ],
      "text/plain": [
       "                       Total  Percent Oceania\n",
       "Continent Fatal (Y/N)                        \n",
       "OCEANIA   N             1212         0.692571\n",
       "          UNKNOWN         33         0.018857\n",
       "          Y              505         0.288571"
      ]
     },
     "execution_count": 25,
     "metadata": {},
     "output_type": "execute_result"
    }
   ],
   "source": [
    "oceaniaDf = df[df['Continent'] == 'OCEANIA']\n",
    "oceaniaDf['Percent Oceania'] = 1 / len(oceaniaDf.index)\n",
    "oceaniaDf.groupby(['Continent', 'Fatal (Y/N)']).sum()"
   ]
  },
  {
   "cell_type": "code",
   "execution_count": 26,
   "metadata": {},
   "outputs": [
    {
     "data": {
      "text/plain": [
       "<matplotlib.axes._subplots.AxesSubplot at 0x1155a2990>"
      ]
     },
     "execution_count": 26,
     "metadata": {},
     "output_type": "execute_result"
    },
    {
     "data": {
      "image/png": "[encoded data removed]",
      "text/plain": [
       "<Figure size 432x288 with 1 Axes>"
      ]
     },
     "metadata": {
      "needs_background": "light"
     },
     "output_type": "display_data"
    }
   ],
   "source": [
    "%matplotlib inline\n",
    "oceaniaDf.groupby(['Continent', 'Fatal (Y/N)']).sum().plot.bar()"
   ]
  },
  {
   "cell_type": "code",
   "execution_count": 27,
   "metadata": {},
   "outputs": [
    {
     "name": "stderr",
     "output_type": "stream",
     "text": [
      "/usr/local/lib/python3.7/site-packages/ipykernel_launcher.py:2: SettingWithCopyWarning: \n",
      "A value is trying to be set on a copy of a slice from a DataFrame.\n",
      "Try using .loc[row_indexer,col_indexer] = value instead\n",
      "\n",
      "See the caveats in the documentation: http://pandas.pydata.org/pandas-docs/stable/user_guide/indexing.html#returning-a-view-versus-a-copy\n",
      "  \n"
     ]
    },
    {
     "data": {
      "text/html": [
       "<div>\n",
       "<style scoped>\n",
       "    .dataframe tbody tr th:only-of-type {\n",
       "        vertical-align: middle;\n",
       "    }\n",
       "\n",
       "    .dataframe tbody tr th {\n",
       "        vertical-align: top;\n",
       "    }\n",
       "\n",
       "    .dataframe thead th {\n",
       "        text-align: right;\n",
       "    }\n",
       "</style>\n",
       "<table border=\"1\" class=\"dataframe\">\n",
       "  <thead>\n",
       "    <tr style=\"text-align: right;\">\n",
       "      <th></th>\n",
       "      <th></th>\n",
       "      <th>Total</th>\n",
       "      <th>Percent Asia</th>\n",
       "    </tr>\n",
       "    <tr>\n",
       "      <th>Continent</th>\n",
       "      <th>Fatal (Y/N)</th>\n",
       "      <th></th>\n",
       "      <th></th>\n",
       "    </tr>\n",
       "  </thead>\n",
       "  <tbody>\n",
       "    <tr>\n",
       "      <th rowspan=\"3\" valign=\"top\">ASIA</th>\n",
       "      <th>N</th>\n",
       "      <td>196</td>\n",
       "      <td>0.492462</td>\n",
       "    </tr>\n",
       "    <tr>\n",
       "      <th>UNKNOWN</th>\n",
       "      <td>11</td>\n",
       "      <td>0.027638</td>\n",
       "    </tr>\n",
       "    <tr>\n",
       "      <th>Y</th>\n",
       "      <td>191</td>\n",
       "      <td>0.479899</td>\n",
       "    </tr>\n",
       "  </tbody>\n",
       "</table>\n",
       "</div>"
      ],
      "text/plain": [
       "                       Total  Percent Asia\n",
       "Continent Fatal (Y/N)                     \n",
       "ASIA      N              196      0.492462\n",
       "          UNKNOWN         11      0.027638\n",
       "          Y              191      0.479899"
      ]
     },
     "execution_count": 27,
     "metadata": {},
     "output_type": "execute_result"
    }
   ],
   "source": [
    "asiaDf = df[df['Continent'] == 'ASIA']\n",
    "asiaDf['Percent Asia'] = 1 / len(asiaDf.index)\n",
    "asiaDf.groupby(['Continent', 'Fatal (Y/N)']).sum()"
   ]
  },
  {
   "cell_type": "code",
   "execution_count": 28,
   "metadata": {},
   "outputs": [
    {
     "data": {
      "text/plain": [
       "<matplotlib.axes._subplots.AxesSubplot at 0x1155cd050>"
      ]
     },
     "execution_count": 28,
     "metadata": {},
     "output_type": "execute_result"
    },
    {
     "data": {
      "image/png": "[encoded data removed]",
      "text/plain": [
       "<Figure size 432x288 with 1 Axes>"
      ]
     },
     "metadata": {
      "needs_background": "light"
     },
     "output_type": "display_data"
    }
   ],
   "source": [
    "%matplotlib inline\n",
    "asiaDf.groupby(['Continent', 'Fatal (Y/N)']).sum().plot.bar()"
   ]
  },
  {
   "cell_type": "code",
   "execution_count": 29,
   "metadata": {},
   "outputs": [
    {
     "name": "stderr",
     "output_type": "stream",
     "text": [
      "/usr/local/lib/python3.7/site-packages/ipykernel_launcher.py:2: SettingWithCopyWarning: \n",
      "A value is trying to be set on a copy of a slice from a DataFrame.\n",
      "Try using .loc[row_indexer,col_indexer] = value instead\n",
      "\n",
      "See the caveats in the documentation: http://pandas.pydata.org/pandas-docs/stable/user_guide/indexing.html#returning-a-view-versus-a-copy\n",
      "  \n"
     ]
    },
    {
     "data": {
      "text/html": [
       "<div>\n",
       "<style scoped>\n",
       "    .dataframe tbody tr th:only-of-type {\n",
       "        vertical-align: middle;\n",
       "    }\n",
       "\n",
       "    .dataframe tbody tr th {\n",
       "        vertical-align: top;\n",
       "    }\n",
       "\n",
       "    .dataframe thead th {\n",
       "        text-align: right;\n",
       "    }\n",
       "</style>\n",
       "<table border=\"1\" class=\"dataframe\">\n",
       "  <thead>\n",
       "    <tr style=\"text-align: right;\">\n",
       "      <th></th>\n",
       "      <th></th>\n",
       "      <th>Total</th>\n",
       "      <th>Percent Europa</th>\n",
       "    </tr>\n",
       "    <tr>\n",
       "      <th>Continent</th>\n",
       "      <th>Fatal (Y/N)</th>\n",
       "      <th></th>\n",
       "      <th></th>\n",
       "    </tr>\n",
       "  </thead>\n",
       "  <tbody>\n",
       "    <tr>\n",
       "      <th rowspan=\"3\" valign=\"top\">EUROPA</th>\n",
       "      <th>N</th>\n",
       "      <td>169</td>\n",
       "      <td>0.650000</td>\n",
       "    </tr>\n",
       "    <tr>\n",
       "      <th>UNKNOWN</th>\n",
       "      <td>8</td>\n",
       "      <td>0.030769</td>\n",
       "    </tr>\n",
       "    <tr>\n",
       "      <th>Y</th>\n",
       "      <td>83</td>\n",
       "      <td>0.319231</td>\n",
       "    </tr>\n",
       "  </tbody>\n",
       "</table>\n",
       "</div>"
      ],
      "text/plain": [
       "                       Total  Percent Europa\n",
       "Continent Fatal (Y/N)                       \n",
       "EUROPA    N              169        0.650000\n",
       "          UNKNOWN          8        0.030769\n",
       "          Y               83        0.319231"
      ]
     },
     "execution_count": 29,
     "metadata": {},
     "output_type": "execute_result"
    }
   ],
   "source": [
    "europaDf = df[df['Continent'] == 'EUROPA']\n",
    "europaDf['Percent Europa'] = 1 / len(europaDf.index)\n",
    "europaDf.groupby(['Continent', 'Fatal (Y/N)']).sum()"
   ]
  },
  {
   "cell_type": "code",
   "execution_count": 30,
   "metadata": {},
   "outputs": [
    {
     "data": {
      "text/plain": [
       "<matplotlib.axes._subplots.AxesSubplot at 0x115601950>"
      ]
     },
     "execution_count": 30,
     "metadata": {},
     "output_type": "execute_result"
    },
    {
     "data": {
      "image/png": "[encoded data removed]",
      "text/plain": [
       "<Figure size 432x288 with 1 Axes>"
      ]
     },
     "metadata": {
      "needs_background": "light"
     },
     "output_type": "display_data"
    }
   ],
   "source": [
    "%matplotlib inline\n",
    "europaDf.groupby(['Continent', 'Fatal (Y/N)']).sum().plot.bar()"
   ]
  }
 ],
 "metadata": {
  "kernelspec": {
   "display_name": "Python 3",
   "language": "python",
   "name": "python3"
  },
  "language_info": {
   "codemirror_mode": {
    "name": "ipython",
    "version": 3
   },
   "file_extension": ".py",
   "mimetype": "text/x-python",
   "name": "python",
   "nbconvert_exporter": "python",
   "pygments_lexer": "ipython3",
   "version": "3.7.5"
  }
 },
 "nbformat": 4,
 "nbformat_minor": 4
}
